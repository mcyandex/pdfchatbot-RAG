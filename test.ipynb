{
 "cells": [
  {
   "cell_type": "code",
   "execution_count": 12,
   "metadata": {},
   "outputs": [],
   "source": [
    "import json"
   ]
  },
  {
   "cell_type": "code",
   "execution_count": 1,
   "metadata": {},
   "outputs": [],
   "source": [
    "import requests\n",
    "\n",
    "url = \"http://localhost:11434/api/generate\"\n",
    "payload = {\n",
    "    \"model\": \"gemma:2b\",\n",
    "    \"prompt\": \"Why is the sky blue?\",\n",
    "}\n",
    "\n",
    "\n"
   ]
  },
  {
   "cell_type": "code",
   "execution_count": 15,
   "metadata": {},
   "outputs": [
    {
     "name": "stdout",
     "output_type": "stream",
     "text": [
      "The sky is blue due to Rayleigh scattering. This scattering process involves the interaction of light waves with molecules in the Earth's atmosphere.\n",
      "\n",
      "* **Mie scattering:** Blue light has a shorter wavelength than other colors, meaning it has more energy at shorter wavelengths. When light enters the atmosphere, shorter wavelengths are scattered more effectively than longer wavelengths.\n",
      "* **Scattering by particles:** Atmospheric molecules, such as oxygen and nitrogen molecules, are much smaller than the wavelengths of visible light. However, they can scatter blue light more efficiently than other colors.\n",
      "* **Refraction:** As light passes through the atmosphere, it is refracted, or bent, towards the observer. This is due to the varying density of the atmosphere with height. Blue light has a lower refractive index than other colors, so it is refracted more than other colors.\n",
      "\n",
      "As a result of these scattering processes, blue light is scattered more strongly in the atmosphere than other colors, giving the sky its characteristic blue color."
     ]
    }
   ],
   "source": [
    "text = []\n",
    "response = requests.post(url, json=payload, stream=True)\n",
    "for data in response.iter_lines(chunk_size=1, decode_unicode=True):\n",
    "    print(json.loads(data.decode()).get(\"response\",\"\"),end=\"\")"
   ]
  },
  {
   "cell_type": "code",
   "execution_count": 9,
   "metadata": {},
   "outputs": [
    {
     "data": {
      "text/plain": [
       "[b'{\"model\":\"gemma:2b\",\"created_at\":\"2024-03-16T15:21:07.483023545Z\",\"response\":\"The\",\"done\":false}',\n",
       " b'{\"model\":\"gemma:2b\",\"created_at\":\"2024-03-16T15:21:07.532811212Z\",\"response\":\" sky\",\"done\":false}',\n",
       " b'{\"model\":\"gemma:2b\",\"created_at\":\"2024-03-16T15:21:07.581651962Z\",\"response\":\" appears\",\"done\":false}',\n",
       " b'{\"model\":\"gemma:2b\",\"created_at\":\"2024-03-16T15:21:07.628797629Z\",\"response\":\" blue\",\"done\":false}',\n",
       " b'{\"model\":\"gemma:2b\",\"created_at\":\"2024-03-16T15:21:07.673103379Z\",\"response\":\" due\",\"done\":false}',\n",
       " b'{\"model\":\"gemma:2b\",\"created_at\":\"2024-03-16T15:21:07.721278087Z\",\"response\":\" to\",\"done\":false}',\n",
       " b'{\"model\":\"gemma:2b\",\"created_at\":\"2024-03-16T15:21:07.769401337Z\",\"response\":\" Rayleigh\",\"done\":false}',\n",
       " b'{\"model\":\"gemma:2b\",\"created_at\":\"2024-03-16T15:21:07.811643754Z\",\"response\":\" scattering\",\"done\":false}',\n",
       " b'{\"model\":\"gemma:2b\",\"created_at\":\"2024-03-16T15:21:07.859765212Z\",\"response\":\".\",\"done\":false}',\n",
       " b'{\"model\":\"gemma:2b\",\"created_at\":\"2024-03-16T15:21:07.907594504Z\",\"response\":\" Rayleigh\",\"done\":false}',\n",
       " b'{\"model\":\"gemma:2b\",\"created_at\":\"2024-03-16T15:21:07.954451504Z\",\"response\":\" scattering\",\"done\":false}',\n",
       " b'{\"model\":\"gemma:2b\",\"created_at\":\"2024-03-16T15:21:07.997228004Z\",\"response\":\" is\",\"done\":false}',\n",
       " b'{\"model\":\"gemma:2b\",\"created_at\":\"2024-03-16T15:21:08.045317546Z\",\"response\":\" the\",\"done\":false}',\n",
       " b'{\"model\":\"gemma:2b\",\"created_at\":\"2024-03-16T15:21:08.094168712Z\",\"response\":\" scattering\",\"done\":false}',\n",
       " b'{\"model\":\"gemma:2b\",\"created_at\":\"2024-03-16T15:21:08.137626421Z\",\"response\":\" of\",\"done\":false}',\n",
       " b'{\"model\":\"gemma:2b\",\"created_at\":\"2024-03-16T15:21:08.185678296Z\",\"response\":\" light\",\"done\":false}',\n",
       " b'{\"model\":\"gemma:2b\",\"created_at\":\"2024-03-16T15:21:08.235123712Z\",\"response\":\" by\",\"done\":false}',\n",
       " b'{\"model\":\"gemma:2b\",\"created_at\":\"2024-03-16T15:21:08.286364462Z\",\"response\":\" particles\",\"done\":false}',\n",
       " b'{\"model\":\"gemma:2b\",\"created_at\":\"2024-03-16T15:21:08.332444004Z\",\"response\":\" that\",\"done\":false}',\n",
       " b'{\"model\":\"gemma:2b\",\"created_at\":\"2024-03-16T15:21:08.381158504Z\",\"response\":\" are\",\"done\":false}',\n",
       " b'{\"model\":\"gemma:2b\",\"created_at\":\"2024-03-16T15:21:08.430450337Z\",\"response\":\" smaller\",\"done\":false}',\n",
       " b'{\"model\":\"gemma:2b\",\"created_at\":\"2024-03-16T15:21:08.480125254Z\",\"response\":\" than\",\"done\":false}',\n",
       " b'{\"model\":\"gemma:2b\",\"created_at\":\"2024-03-16T15:21:08.524216504Z\",\"response\":\" the\",\"done\":false}',\n",
       " b'{\"model\":\"gemma:2b\",\"created_at\":\"2024-03-16T15:21:08.573399712Z\",\"response\":\" wavelength\",\"done\":false}',\n",
       " b'{\"model\":\"gemma:2b\",\"created_at\":\"2024-03-16T15:21:08.622226754Z\",\"response\":\" of\",\"done\":false}',\n",
       " b'{\"model\":\"gemma:2b\",\"created_at\":\"2024-03-16T15:21:08.665753379Z\",\"response\":\" light\",\"done\":false}',\n",
       " b'{\"model\":\"gemma:2b\",\"created_at\":\"2024-03-16T15:21:08.712188421Z\",\"response\":\".\",\"done\":false}',\n",
       " b'{\"model\":\"gemma:2b\",\"created_at\":\"2024-03-16T15:21:08.761179463Z\",\"response\":\" This\",\"done\":false}',\n",
       " b'{\"model\":\"gemma:2b\",\"created_at\":\"2024-03-16T15:21:08.810140713Z\",\"response\":\" means\",\"done\":false}',\n",
       " b'{\"model\":\"gemma:2b\",\"created_at\":\"2024-03-16T15:21:08.852850338Z\",\"response\":\" that\",\"done\":false}',\n",
       " b'{\"model\":\"gemma:2b\",\"created_at\":\"2024-03-16T15:21:08.899956713Z\",\"response\":\" blue\",\"done\":false}',\n",
       " b'{\"model\":\"gemma:2b\",\"created_at\":\"2024-03-16T15:21:08.948104754Z\",\"response\":\" light\",\"done\":false}',\n",
       " b'{\"model\":\"gemma:2b\",\"created_at\":\"2024-03-16T15:21:08.996361629Z\",\"response\":\",\",\"done\":false}',\n",
       " b'{\"model\":\"gemma:2b\",\"created_at\":\"2024-03-16T15:21:09.038744254Z\",\"response\":\" with\",\"done\":false}',\n",
       " b'{\"model\":\"gemma:2b\",\"created_at\":\"2024-03-16T15:21:09.089357213Z\",\"response\":\" its\",\"done\":false}',\n",
       " b'{\"model\":\"gemma:2b\",\"created_at\":\"2024-03-16T15:21:09.141611671Z\",\"response\":\" shorter\",\"done\":false}',\n",
       " b'{\"model\":\"gemma:2b\",\"created_at\":\"2024-03-16T15:21:09.210966463Z\",\"response\":\" wavelength\",\"done\":false}',\n",
       " b'{\"model\":\"gemma:2b\",\"created_at\":\"2024-03-16T15:21:09.257092671Z\",\"response\":\",\",\"done\":false}',\n",
       " b'{\"model\":\"gemma:2b\",\"created_at\":\"2024-03-16T15:21:09.307504213Z\",\"response\":\" is\",\"done\":false}',\n",
       " b'{\"model\":\"gemma:2b\",\"created_at\":\"2024-03-16T15:21:09.351146754Z\",\"response\":\" scattered\",\"done\":false}',\n",
       " b'{\"model\":\"gemma:2b\",\"created_at\":\"2024-03-16T15:21:09.399616921Z\",\"response\":\" more\",\"done\":false}',\n",
       " b'{\"model\":\"gemma:2b\",\"created_at\":\"2024-03-16T15:21:09.448750546Z\",\"response\":\" effectively\",\"done\":false}',\n",
       " b'{\"model\":\"gemma:2b\",\"created_at\":\"2024-03-16T15:21:09.49170588Z\",\"response\":\" than\",\"done\":false}',\n",
       " b'{\"model\":\"gemma:2b\",\"created_at\":\"2024-03-16T15:21:09.539543171Z\",\"response\":\" longer\",\"done\":false}',\n",
       " b'{\"model\":\"gemma:2b\",\"created_at\":\"2024-03-16T15:21:09.588262213Z\",\"response\":\" wavelengths\",\"done\":false}',\n",
       " b'{\"model\":\"gemma:2b\",\"created_at\":\"2024-03-16T15:21:09.636632213Z\",\"response\":\" such\",\"done\":false}',\n",
       " b'{\"model\":\"gemma:2b\",\"created_at\":\"2024-03-16T15:21:09.680306546Z\",\"response\":\" as\",\"done\":false}',\n",
       " b'{\"model\":\"gemma:2b\",\"created_at\":\"2024-03-16T15:21:09.729716671Z\",\"response\":\" red\",\"done\":false}',\n",
       " b'{\"model\":\"gemma:2b\",\"created_at\":\"2024-03-16T15:21:09.783135046Z\",\"response\":\" and\",\"done\":false}',\n",
       " b'{\"model\":\"gemma:2b\",\"created_at\":\"2024-03-16T15:21:09.840501796Z\",\"response\":\" yellow\",\"done\":false}',\n",
       " b'{\"model\":\"gemma:2b\",\"created_at\":\"2024-03-16T15:21:09.883850255Z\",\"response\":\".\",\"done\":false}',\n",
       " b'{\"model\":\"gemma:2b\",\"created_at\":\"2024-03-16T15:21:09.930663713Z\",\"response\":\"\\\\n\\\\n\",\"done\":false}',\n",
       " b'{\"model\":\"gemma:2b\",\"created_at\":\"2024-03-16T15:21:09.97921888Z\",\"response\":\"The\",\"done\":false}',\n",
       " b'{\"model\":\"gemma:2b\",\"created_at\":\"2024-03-16T15:21:10.027305005Z\",\"response\":\" blue\",\"done\":false}',\n",
       " b'{\"model\":\"gemma:2b\",\"created_at\":\"2024-03-16T15:21:10.071551046Z\",\"response\":\" color\",\"done\":false}',\n",
       " b'{\"model\":\"gemma:2b\",\"created_at\":\"2024-03-16T15:21:10.119963547Z\",\"response\":\" of\",\"done\":false}',\n",
       " b'{\"model\":\"gemma:2b\",\"created_at\":\"2024-03-16T15:21:10.168323588Z\",\"response\":\" the\",\"done\":false}',\n",
       " b'{\"model\":\"gemma:2b\",\"created_at\":\"2024-03-16T15:21:10.21487663Z\",\"response\":\" sky\",\"done\":false}',\n",
       " b'{\"model\":\"gemma:2b\",\"created_at\":\"2024-03-16T15:21:10.270134463Z\",\"response\":\" is\",\"done\":false}',\n",
       " b'{\"model\":\"gemma:2b\",\"created_at\":\"2024-03-16T15:21:10.31807463Z\",\"response\":\" caused\",\"done\":false}',\n",
       " b'{\"model\":\"gemma:2b\",\"created_at\":\"2024-03-16T15:21:10.414974588Z\",\"response\":\" by\",\"done\":false}',\n",
       " b'{\"model\":\"gemma:2b\",\"created_at\":\"2024-03-16T15:21:10.470950588Z\",\"response\":\" tiny\",\"done\":false}',\n",
       " b'{\"model\":\"gemma:2b\",\"created_at\":\"2024-03-16T15:21:10.520672713Z\",\"response\":\" particles\",\"done\":false}',\n",
       " b'{\"model\":\"gemma:2b\",\"created_at\":\"2024-03-16T15:21:10.569565922Z\",\"response\":\" in\",\"done\":false}',\n",
       " b'{\"model\":\"gemma:2b\",\"created_at\":\"2024-03-16T15:21:10.623371963Z\",\"response\":\" the\",\"done\":false}',\n",
       " b'{\"model\":\"gemma:2b\",\"created_at\":\"2024-03-16T15:21:10.677306963Z\",\"response\":\" Earth\",\"done\":false}',\n",
       " b'{\"model\":\"gemma:2b\",\"created_at\":\"2024-03-16T15:21:10.728004213Z\",\"response\":\"\\'\",\"done\":false}',\n",
       " b'{\"model\":\"gemma:2b\",\"created_at\":\"2024-03-16T15:21:10.773648588Z\",\"response\":\"s\",\"done\":false}',\n",
       " b'{\"model\":\"gemma:2b\",\"created_at\":\"2024-03-16T15:21:10.823934464Z\",\"response\":\" atmosphere\",\"done\":false}',\n",
       " b'{\"model\":\"gemma:2b\",\"created_at\":\"2024-03-16T15:21:10.872379589Z\",\"response\":\",\",\"done\":false}',\n",
       " b'{\"model\":\"gemma:2b\",\"created_at\":\"2024-03-16T15:21:10.91699413Z\",\"response\":\" such\",\"done\":false}',\n",
       " b'{\"model\":\"gemma:2b\",\"created_at\":\"2024-03-16T15:21:10.964138255Z\",\"response\":\" as\",\"done\":false}',\n",
       " b'{\"model\":\"gemma:2b\",\"created_at\":\"2024-03-16T15:21:11.01349213Z\",\"response\":\" molecules\",\"done\":false}',\n",
       " b'{\"model\":\"gemma:2b\",\"created_at\":\"2024-03-16T15:21:11.062410005Z\",\"response\":\" of\",\"done\":false}',\n",
       " b'{\"model\":\"gemma:2b\",\"created_at\":\"2024-03-16T15:21:11.106492422Z\",\"response\":\" nitrogen\",\"done\":false}',\n",
       " b'{\"model\":\"gemma:2b\",\"created_at\":\"2024-03-16T15:21:11.156174047Z\",\"response\":\" and\",\"done\":false}',\n",
       " b'{\"model\":\"gemma:2b\",\"created_at\":\"2024-03-16T15:21:11.20549238Z\",\"response\":\" oxygen\",\"done\":false}',\n",
       " b'{\"model\":\"gemma:2b\",\"created_at\":\"2024-03-16T15:21:11.255911172Z\",\"response\":\".\",\"done\":false}',\n",
       " b'{\"model\":\"gemma:2b\",\"created_at\":\"2024-03-16T15:21:11.299650005Z\",\"response\":\" These\",\"done\":false}',\n",
       " b'{\"model\":\"gemma:2b\",\"created_at\":\"2024-03-16T15:21:11.348437672Z\",\"response\":\" molecules\",\"done\":false}',\n",
       " b'{\"model\":\"gemma:2b\",\"created_at\":\"2024-03-16T15:21:11.39762038Z\",\"response\":\" are\",\"done\":false}',\n",
       " b'{\"model\":\"gemma:2b\",\"created_at\":\"2024-03-16T15:21:11.443913505Z\",\"response\":\" much\",\"done\":false}',\n",
       " b'{\"model\":\"gemma:2b\",\"created_at\":\"2024-03-16T15:21:11.490518631Z\",\"response\":\" smaller\",\"done\":false}',\n",
       " b'{\"model\":\"gemma:2b\",\"created_at\":\"2024-03-16T15:21:11.539629256Z\",\"response\":\" than\",\"done\":false}',\n",
       " b'{\"model\":\"gemma:2b\",\"created_at\":\"2024-03-16T15:21:11.589930797Z\",\"response\":\" the\",\"done\":false}',\n",
       " b'{\"model\":\"gemma:2b\",\"created_at\":\"2024-03-16T15:21:11.637120589Z\",\"response\":\" wavelengths\",\"done\":false}',\n",
       " b'{\"model\":\"gemma:2b\",\"created_at\":\"2024-03-16T15:21:11.687307256Z\",\"response\":\" of\",\"done\":false}',\n",
       " b'{\"model\":\"gemma:2b\",\"created_at\":\"2024-03-16T15:21:11.740470172Z\",\"response\":\" visible\",\"done\":false}',\n",
       " b'{\"model\":\"gemma:2b\",\"created_at\":\"2024-03-16T15:21:11.793033547Z\",\"response\":\" light\",\"done\":false}',\n",
       " b'{\"model\":\"gemma:2b\",\"created_at\":\"2024-03-16T15:21:11.845825631Z\",\"response\":\",\",\"done\":false}',\n",
       " b'{\"model\":\"gemma:2b\",\"created_at\":\"2024-03-16T15:21:11.892733006Z\",\"response\":\" which\",\"done\":false}',\n",
       " b'{\"model\":\"gemma:2b\",\"created_at\":\"2024-03-16T15:21:11.944739714Z\",\"response\":\" is\",\"done\":false}',\n",
       " b'{\"model\":\"gemma:2b\",\"created_at\":\"2024-03-16T15:21:11.998679631Z\",\"response\":\" why\",\"done\":false}',\n",
       " b'{\"model\":\"gemma:2b\",\"created_at\":\"2024-03-16T15:21:12.050601797Z\",\"response\":\" they\",\"done\":false}',\n",
       " b'{\"model\":\"gemma:2b\",\"created_at\":\"2024-03-16T15:21:12.098976547Z\",\"response\":\" scatter\",\"done\":false}',\n",
       " b'{\"model\":\"gemma:2b\",\"created_at\":\"2024-03-16T15:21:12.147638006Z\",\"response\":\" blue\",\"done\":false}',\n",
       " b'{\"model\":\"gemma:2b\",\"created_at\":\"2024-03-16T15:21:12.198872381Z\",\"response\":\" light\",\"done\":false}',\n",
       " b'{\"model\":\"gemma:2b\",\"created_at\":\"2024-03-16T15:21:12.251144756Z\",\"response\":\" more\",\"done\":false}',\n",
       " b'{\"model\":\"gemma:2b\",\"created_at\":\"2024-03-16T15:21:12.298599673Z\",\"response\":\" efficiently\",\"done\":false}',\n",
       " b'{\"model\":\"gemma:2b\",\"created_at\":\"2024-03-16T15:21:12.348019923Z\",\"response\":\".\",\"done\":false}',\n",
       " b'{\"model\":\"gemma:2b\",\"created_at\":\"2024-03-16T15:21:12.401053839Z\",\"response\":\"\\\\n\\\\n\",\"done\":false}',\n",
       " b'{\"model\":\"gemma:2b\",\"created_at\":\"2024-03-16T15:21:12.456244673Z\",\"response\":\"This\",\"done\":false}',\n",
       " b'{\"model\":\"gemma:2b\",\"created_at\":\"2024-03-16T15:21:12.507900381Z\",\"response\":\" scattering\",\"done\":false}',\n",
       " b'{\"model\":\"gemma:2b\",\"created_at\":\"2024-03-16T15:21:12.554850839Z\",\"response\":\" process\",\"done\":false}',\n",
       " b'{\"model\":\"gemma:2b\",\"created_at\":\"2024-03-16T15:21:12.607185923Z\",\"response\":\" results\",\"done\":false}',\n",
       " b'{\"model\":\"gemma:2b\",\"created_at\":\"2024-03-16T15:21:12.661096048Z\",\"response\":\" in\",\"done\":false}',\n",
       " b'{\"model\":\"gemma:2b\",\"created_at\":\"2024-03-16T15:21:12.712692423Z\",\"response\":\" the\",\"done\":false}',\n",
       " b'{\"model\":\"gemma:2b\",\"created_at\":\"2024-03-16T15:21:12.757440339Z\",\"response\":\" blue\",\"done\":false}',\n",
       " b'{\"model\":\"gemma:2b\",\"created_at\":\"2024-03-16T15:21:12.835752964Z\",\"response\":\" hue\",\"done\":false}',\n",
       " b'{\"model\":\"gemma:2b\",\"created_at\":\"2024-03-16T15:21:12.88618859Z\",\"response\":\" of\",\"done\":false}',\n",
       " b'{\"model\":\"gemma:2b\",\"created_at\":\"2024-03-16T15:21:12.93759159Z\",\"response\":\" the\",\"done\":false}',\n",
       " b'{\"model\":\"gemma:2b\",\"created_at\":\"2024-03-16T15:21:12.98708984Z\",\"response\":\" sky\",\"done\":false}',\n",
       " b'{\"model\":\"gemma:2b\",\"created_at\":\"2024-03-16T15:21:13.032792173Z\",\"response\":\" and\",\"done\":false}',\n",
       " b'{\"model\":\"gemma:2b\",\"created_at\":\"2024-03-16T15:21:13.079507131Z\",\"response\":\" the\",\"done\":false}',\n",
       " b'{\"model\":\"gemma:2b\",\"created_at\":\"2024-03-16T15:21:13.13077484Z\",\"response\":\" other\",\"done\":false}',\n",
       " b'{\"model\":\"gemma:2b\",\"created_at\":\"2024-03-16T15:21:13.180132673Z\",\"response\":\" colors\",\"done\":false}',\n",
       " b'{\"model\":\"gemma:2b\",\"created_at\":\"2024-03-16T15:21:13.223921923Z\",\"response\":\" of\",\"done\":false}',\n",
       " b'{\"model\":\"gemma:2b\",\"created_at\":\"2024-03-16T15:21:13.270487298Z\",\"response\":\" the\",\"done\":false}',\n",
       " b'{\"model\":\"gemma:2b\",\"created_at\":\"2024-03-16T15:21:13.319157715Z\",\"response\":\" spectrum\",\"done\":false}',\n",
       " b'{\"model\":\"gemma:2b\",\"created_at\":\"2024-03-16T15:21:13.367460631Z\",\"response\":\" being\",\"done\":false}',\n",
       " b'{\"model\":\"gemma:2b\",\"created_at\":\"2024-03-16T15:21:13.411276548Z\",\"response\":\" scattered\",\"done\":false}',\n",
       " b'{\"model\":\"gemma:2b\",\"created_at\":\"2024-03-16T15:21:13.461232298Z\",\"response\":\" in\",\"done\":false}',\n",
       " b'{\"model\":\"gemma:2b\",\"created_at\":\"2024-03-16T15:21:13.511138798Z\",\"response\":\" different\",\"done\":false}',\n",
       " b'{\"model\":\"gemma:2b\",\"created_at\":\"2024-03-16T15:21:13.559803631Z\",\"response\":\" directions\",\"done\":false}',\n",
       " b'{\"model\":\"gemma:2b\",\"created_at\":\"2024-03-16T15:21:13.603147882Z\",\"response\":\".\",\"done\":false}',\n",
       " b'{\"model\":\"gemma:2b\",\"created_at\":\"2024-03-16T15:21:13.651329757Z\",\"response\":\"\",\"done\":true,\"context\":[106,1645,108,4385,603,573,8203,3868,235336,107,108,106,2516,108,651,8203,8149,3868,3402,577,153902,38497,235265,153902,38497,603,573,38497,576,2611,731,16071,674,708,9595,1178,573,35571,576,2611,235265,1417,3454,674,3868,2611,235269,675,1277,25270,35571,235269,603,30390,978,16347,1178,5543,95178,1582,685,3118,578,8123,235265,109,651,3868,2881,576,573,8203,603,8830,731,16791,16071,575,573,10379,235303,235256,13795,235269,1582,685,24582,576,23584,578,16175,235265,3766,24582,708,1683,9595,1178,573,95178,576,12918,2611,235269,948,603,3165,984,17109,3868,2611,978,34790,235265,109,1596,38497,2185,3190,575,573,3868,32186,576,573,8203,578,573,1156,9276,576,573,18303,1855,30390,575,2167,16759,235265,107,108],\"total_duration\":6247521086,\"load_duration\":366833,\"prompt_eval_duration\":78445000,\"eval_count\":126,\"eval_duration\":6168255000}']"
      ]
     },
     "execution_count": 9,
     "metadata": {},
     "output_type": "execute_result"
    }
   ],
   "source": [
    "text"
   ]
  },
  {
   "cell_type": "code",
   "execution_count": null,
   "metadata": {},
   "outputs": [
    {
     "name": "stdout",
     "output_type": "stream",
     "text": [
      "The sky appears blue due to Rayleigh scattering. Rayleigh scattering is a phenomenon where light waves of longer wavelengths (such as blue light) are scattered more strongly than light waves of shorter wavelengths (such as red light). This is because blue light has a shorter wavelength than red light.\n",
      "\n",
      "As light from the sun enters the Earth's atmosphere, it is scattered in all directions. However, the blue light is scattered more strongly than the red light because the blue light has a shorter wavelength. This means that more blue light reaches our eyes than red light.\n",
      "\n",
      "As a result, the sky appears blue to us.\n"
     ]
    }
   ],
   "source": [
    "print(\"\".join(text))"
   ]
  },
  {
   "cell_type": "code",
   "execution_count": null,
   "metadata": {},
   "outputs": [],
   "source": []
  }
 ],
 "metadata": {
  "kernelspec": {
   "display_name": "venv",
   "language": "python",
   "name": "python3"
  },
  "language_info": {
   "codemirror_mode": {
    "name": "ipython",
    "version": 3
   },
   "file_extension": ".py",
   "mimetype": "text/x-python",
   "name": "python",
   "nbconvert_exporter": "python",
   "pygments_lexer": "ipython3",
   "version": "3.11.5"
  }
 },
 "nbformat": 4,
 "nbformat_minor": 2
}
